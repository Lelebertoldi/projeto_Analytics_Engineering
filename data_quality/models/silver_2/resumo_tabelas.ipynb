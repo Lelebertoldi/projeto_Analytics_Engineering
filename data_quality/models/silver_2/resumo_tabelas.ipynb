{
 "cells": [
  {
   "cell_type": "code",
   "execution_count": 1,
   "metadata": {},
   "outputs": [],
   "source": [
    "from IPython.display import display\n",
    "import duckdb\n",
    "\n",
    "# Caminho para o banco de dados DuckDB\n",
    "db_path = 'D:\\\\GitHub\\\\projeto_Analytics_Engineering\\\\data_quality\\\\silver_2.duckdb'"
   ]
  },
  {
   "cell_type": "markdown",
   "metadata": {},
   "source": [
    "## Tabela listings_silver:\n"
   ]
  },
  {
   "cell_type": "markdown",
   "metadata": {},
   "source": [
    "### Colunas e tipo de colunas"
   ]
  },
  {
   "cell_type": "code",
   "execution_count": 3,
   "metadata": {},
   "outputs": [
    {
     "name": "stdout",
     "output_type": "stream",
     "text": [
      "Coluna: id, Tipo: BIGINT\n",
      "Coluna: neighbourhood_cleansed, Tipo: VARCHAR\n",
      "Coluna: price, Tipo: DOUBLE\n",
      "Coluna: number_of_reviews, Tipo: INTEGER\n",
      "Coluna: review_scores_rating, Tipo: DOUBLE\n"
     ]
    }
   ],
   "source": [
    "# Conectar ao banco de dados\n",
    "conn = duckdb.connect(database=db_path)\n",
    "\n",
    "# Consulta SQL para pegar todas as colunas e seus tipos da tabela 'listings_silver'\n",
    "query = \"\"\"\n",
    "SELECT column_name, data_type\n",
    "FROM information_schema.columns\n",
    "WHERE table_name = 'listings_silver'\n",
    "ORDER BY ordinal_position;\n",
    "\"\"\"\n",
    "\n",
    "# Executar a consulta\n",
    "result = conn.execute(query).fetchall()\n",
    "\n",
    "# Fechar a conexão\n",
    "conn.close()\n",
    "\n",
    "# Exibir os resultados\n",
    "for row in result:\n",
    "    print(f\"Coluna: {row[0]}, Tipo: {row[1]}\")"
   ]
  },
  {
   "cell_type": "markdown",
   "metadata": {},
   "source": [
    "### Início da tabela"
   ]
  },
  {
   "cell_type": "code",
   "execution_count": null,
   "metadata": {},
   "outputs": [
    {
     "data": {
      "text/html": [
       "<div>\n",
       "<style scoped>\n",
       "    .dataframe tbody tr th:only-of-type {\n",
       "        vertical-align: middle;\n",
       "    }\n",
       "\n",
       "    .dataframe tbody tr th {\n",
       "        vertical-align: top;\n",
       "    }\n",
       "\n",
       "    .dataframe thead th {\n",
       "        text-align: right;\n",
       "    }\n",
       "</style>\n",
       "<table border=\"1\" class=\"dataframe\">\n",
       "  <thead>\n",
       "    <tr style=\"text-align: right;\">\n",
       "      <th></th>\n",
       "      <th>id</th>\n",
       "      <th>neighbourhood_cleansed</th>\n",
       "      <th>price</th>\n",
       "      <th>number_of_reviews</th>\n",
       "      <th>review_scores_rating</th>\n",
       "    </tr>\n",
       "  </thead>\n",
       "  <tbody>\n",
       "    <tr>\n",
       "      <th>0</th>\n",
       "      <td>17878</td>\n",
       "      <td>Copacabana</td>\n",
       "      <td>310.0</td>\n",
       "      <td>319</td>\n",
       "      <td>4.71</td>\n",
       "    </tr>\n",
       "    <tr>\n",
       "      <th>1</th>\n",
       "      <td>25026</td>\n",
       "      <td>Copacabana</td>\n",
       "      <td>203.0</td>\n",
       "      <td>291</td>\n",
       "      <td>4.73</td>\n",
       "    </tr>\n",
       "    <tr>\n",
       "      <th>2</th>\n",
       "      <td>220377</td>\n",
       "      <td>Tijuca</td>\n",
       "      <td>220.0</td>\n",
       "      <td>5</td>\n",
       "      <td>5.00</td>\n",
       "    </tr>\n",
       "    <tr>\n",
       "      <th>3</th>\n",
       "      <td>35764</td>\n",
       "      <td>Copacabana</td>\n",
       "      <td>201.0</td>\n",
       "      <td>476</td>\n",
       "      <td>4.91</td>\n",
       "    </tr>\n",
       "    <tr>\n",
       "      <th>4</th>\n",
       "      <td>223073</td>\n",
       "      <td>Ipanema</td>\n",
       "      <td>321.0</td>\n",
       "      <td>471</td>\n",
       "      <td>4.81</td>\n",
       "    </tr>\n",
       "    <tr>\n",
       "      <th>5</th>\n",
       "      <td>230989</td>\n",
       "      <td>Copacabana</td>\n",
       "      <td>160.0</td>\n",
       "      <td>162</td>\n",
       "      <td>4.64</td>\n",
       "    </tr>\n",
       "    <tr>\n",
       "      <th>6</th>\n",
       "      <td>231105</td>\n",
       "      <td>Jacarepaguá</td>\n",
       "      <td>169.0</td>\n",
       "      <td>118</td>\n",
       "      <td>4.87</td>\n",
       "    </tr>\n",
       "    <tr>\n",
       "      <th>7</th>\n",
       "      <td>48305</td>\n",
       "      <td>Ipanema</td>\n",
       "      <td>2645.0</td>\n",
       "      <td>178</td>\n",
       "      <td>4.76</td>\n",
       "    </tr>\n",
       "    <tr>\n",
       "      <th>8</th>\n",
       "      <td>231497</td>\n",
       "      <td>Copacabana</td>\n",
       "      <td>160.0</td>\n",
       "      <td>87</td>\n",
       "      <td>4.75</td>\n",
       "    </tr>\n",
       "    <tr>\n",
       "      <th>9</th>\n",
       "      <td>231516</td>\n",
       "      <td>Copacabana</td>\n",
       "      <td>350.0</td>\n",
       "      <td>29</td>\n",
       "      <td>4.71</td>\n",
       "    </tr>\n",
       "  </tbody>\n",
       "</table>\n",
       "</div>"
      ],
      "text/plain": [
       "       id neighbourhood_cleansed   price  number_of_reviews  \\\n",
       "0   17878             Copacabana   310.0                319   \n",
       "1   25026             Copacabana   203.0                291   \n",
       "2  220377                 Tijuca   220.0                  5   \n",
       "3   35764             Copacabana   201.0                476   \n",
       "4  223073                Ipanema   321.0                471   \n",
       "5  230989             Copacabana   160.0                162   \n",
       "6  231105            Jacarepaguá   169.0                118   \n",
       "7   48305                Ipanema  2645.0                178   \n",
       "8  231497             Copacabana   160.0                 87   \n",
       "9  231516             Copacabana   350.0                 29   \n",
       "\n",
       "   review_scores_rating  \n",
       "0                  4.71  \n",
       "1                  4.73  \n",
       "2                  5.00  \n",
       "3                  4.91  \n",
       "4                  4.81  \n",
       "5                  4.64  \n",
       "6                  4.87  \n",
       "7                  4.76  \n",
       "8                  4.75  \n",
       "9                  4.71  "
      ]
     },
     "metadata": {},
     "output_type": "display_data"
    }
   ],
   "source": [
    "# Conectar ao banco de dados\n",
    "conn = duckdb.connect(database=db_path)\n",
    "\n",
    "# Consulta SQL para pegar as primeiras 10 linhas da tabela 'listings_silver'\n",
    "query = \"\"\"\n",
    "SELECT * FROM listings_silver\n",
    "LIMIT 10;\n",
    "\"\"\"\n",
    "\n",
    "# Executar a consulta\n",
    "result = conn.execute(query).fetchdf()\n",
    "\n",
    "# Fechar a conexão\n",
    "conn.close()\n",
    "\n",
    "# Exibir os resultados\n",
    "display(result)\n"
   ]
  },
  {
   "cell_type": "markdown",
   "metadata": {},
   "source": [
    "## Tabela calendar_silver:"
   ]
  },
  {
   "cell_type": "markdown",
   "metadata": {},
   "source": [
    "### Colunas e tipo de colunas"
   ]
  },
  {
   "cell_type": "code",
   "execution_count": 8,
   "metadata": {},
   "outputs": [
    {
     "name": "stdout",
     "output_type": "stream",
     "text": [
      "Coluna: listing_id, Tipo: INTEGER\n",
      "Coluna: date, Tipo: TIMESTAMP\n",
      "Coluna: available, Tipo: BOOLEAN\n"
     ]
    }
   ],
   "source": [
    "# Conectar ao banco de dados\n",
    "conn = duckdb.connect(database=db_path)\n",
    "\n",
    "# Consulta SQL para pegar todas as colunas e seus tipos da tabela 'calendar_silver'\n",
    "query = \"\"\"\n",
    "SELECT column_name, data_type\n",
    "FROM information_schema.columns\n",
    "WHERE table_name = 'calendar_silver'\n",
    "ORDER BY ordinal_position;\n",
    "\"\"\"\n",
    "\n",
    "# Executar a consulta\n",
    "result = conn.execute(query).fetchall()\n",
    "\n",
    "# Fechar a conexão\n",
    "conn.close()\n",
    "\n",
    "# Exibir os resultados\n",
    "for row in result:\n",
    "    print(f\"Coluna: {row[0]}, Tipo: {row[1]}\")"
   ]
  },
  {
   "cell_type": "markdown",
   "metadata": {},
   "source": [
    "### Início da tabela"
   ]
  },
  {
   "cell_type": "code",
   "execution_count": 5,
   "metadata": {},
   "outputs": [
    {
     "data": {
      "text/html": [
       "<div>\n",
       "<style scoped>\n",
       "    .dataframe tbody tr th:only-of-type {\n",
       "        vertical-align: middle;\n",
       "    }\n",
       "\n",
       "    .dataframe tbody tr th {\n",
       "        vertical-align: top;\n",
       "    }\n",
       "\n",
       "    .dataframe thead th {\n",
       "        text-align: right;\n",
       "    }\n",
       "</style>\n",
       "<table border=\"1\" class=\"dataframe\">\n",
       "  <thead>\n",
       "    <tr style=\"text-align: right;\">\n",
       "      <th></th>\n",
       "      <th>listing_id</th>\n",
       "      <th>date</th>\n",
       "      <th>available</th>\n",
       "    </tr>\n",
       "  </thead>\n",
       "  <tbody>\n",
       "    <tr>\n",
       "      <th>0</th>\n",
       "      <td>4905170</td>\n",
       "      <td>2025-06-17</td>\n",
       "      <td>True</td>\n",
       "    </tr>\n",
       "    <tr>\n",
       "      <th>1</th>\n",
       "      <td>4905170</td>\n",
       "      <td>2025-06-20</td>\n",
       "      <td>True</td>\n",
       "    </tr>\n",
       "    <tr>\n",
       "      <th>2</th>\n",
       "      <td>4905170</td>\n",
       "      <td>2025-06-23</td>\n",
       "      <td>True</td>\n",
       "    </tr>\n",
       "    <tr>\n",
       "      <th>3</th>\n",
       "      <td>5529385</td>\n",
       "      <td>2024-10-11</td>\n",
       "      <td>True</td>\n",
       "    </tr>\n",
       "    <tr>\n",
       "      <th>4</th>\n",
       "      <td>5529385</td>\n",
       "      <td>2024-10-12</td>\n",
       "      <td>True</td>\n",
       "    </tr>\n",
       "  </tbody>\n",
       "</table>\n",
       "</div>"
      ],
      "text/plain": [
       "   listing_id       date  available\n",
       "0     4905170 2025-06-17       True\n",
       "1     4905170 2025-06-20       True\n",
       "2     4905170 2025-06-23       True\n",
       "3     5529385 2024-10-11       True\n",
       "4     5529385 2024-10-12       True"
      ]
     },
     "metadata": {},
     "output_type": "display_data"
    }
   ],
   "source": [
    "# Conectar ao banco de dados\n",
    "conn = duckdb.connect(database=db_path)\n",
    "\n",
    "# Consulta SQL para pegar as primeiras 5 linhas da tabela 'calendar_silver'\n",
    "query = \"\"\"\n",
    "SELECT * FROM calendar_silver\n",
    "LIMIT 5;\n",
    "\"\"\"\n",
    "\n",
    "# Executar a consulta\n",
    "result = conn.execute(query).fetchdf()\n",
    "\n",
    "# Fechar a conexão\n",
    "conn.close()\n",
    "\n",
    "# Exibir os resultados\n",
    "display(result)\n"
   ]
  }
 ],
 "metadata": {
  "kernelspec": {
   "display_name": "Python 3",
   "language": "python",
   "name": "python3"
  },
  "language_info": {
   "codemirror_mode": {
    "name": "ipython",
    "version": 3
   },
   "file_extension": ".py",
   "mimetype": "text/x-python",
   "name": "python",
   "nbconvert_exporter": "python",
   "pygments_lexer": "ipython3",
   "version": "3.12.6"
  }
 },
 "nbformat": 4,
 "nbformat_minor": 2
}
