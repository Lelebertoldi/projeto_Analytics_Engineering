{
 "cells": [
  {
   "cell_type": "code",
   "execution_count": null,
   "metadata": {},
   "outputs": [],
   "source": [
    "import duckdb\n",
    "import pyarrow as pa\n",
    "\n",
    "silver_1_db_path = \"D:\\\\GitHub\\\\projeto_Analytics_Engineering\\\\data_quality\\\\silver_1.duckdb\"\n",
    "\n",
    "silver_2_db_path = \"D:\\\\GitHub\\\\projeto_Analytics_Engineering\\\\data_quality\\\\silver_2.duckdb\""
   ]
  },
  {
   "cell_type": "markdown",
   "metadata": {},
   "source": [
    "## Insere os dados da tabela listings do banco silver_1 para a tabela listings_silver no banco silver_2 das colunas id, neighbourhood_cleansed, price, number_of_reviews, review_scores_rating aplicando os tratamentos nas colunas price e review_scores_rating\n"
   ]
  },
  {
   "cell_type": "code",
   "execution_count": null,
   "metadata": {},
   "outputs": [
    {
     "name": "stdout",
     "output_type": "stream",
     "text": [
      "Dados extraídos com sucesso do banco bronze.\n",
      "Lote 1 inserido com sucesso.\n",
      "Lote 2 inserido com sucesso.\n",
      "Lote 3 inserido com sucesso.\n",
      "Lote 4 inserido com sucesso.\n",
      "Lote 5 inserido com sucesso.\n",
      "Lote 6 inserido com sucesso.\n",
      "Lote 7 inserido com sucesso.\n",
      "Lote 8 inserido com sucesso.\n",
      "Lote 9 inserido com sucesso.\n",
      "Lote 10 inserido com sucesso.\n",
      "Lote 11 inserido com sucesso.\n",
      "Lote 12 inserido com sucesso.\n",
      "Lote 13 inserido com sucesso.\n",
      "Lote 14 inserido com sucesso.\n",
      "Lote 15 inserido com sucesso.\n",
      "Lote 16 inserido com sucesso.\n",
      "Lote 17 inserido com sucesso.\n",
      "Lote 18 inserido com sucesso.\n",
      "Lote 19 inserido com sucesso.\n",
      "Lote 20 inserido com sucesso.\n",
      "Lote 21 inserido com sucesso.\n",
      "Lote 22 inserido com sucesso.\n",
      "Lote 23 inserido com sucesso.\n",
      "Lote 24 inserido com sucesso.\n",
      "Lote 25 inserido com sucesso.\n",
      "Lote 26 inserido com sucesso.\n",
      "Lote 27 inserido com sucesso.\n",
      "Lote 28 inserido com sucesso.\n",
      "Lote 29 inserido com sucesso.\n",
      "Lote 30 inserido com sucesso.\n",
      "Lote 31 inserido com sucesso.\n",
      "Lote 32 inserido com sucesso.\n",
      "Lote 33 inserido com sucesso.\n",
      "Lote 34 inserido com sucesso.\n",
      "Lote 35 inserido com sucesso.\n",
      "Todos os dados foram inseridos com sucesso na tabela 'listings_silver' do banco silver.\n"
     ]
    }
   ],
   "source": [
    "# Definir o tamanho do lote\n",
    "BATCH_SIZE = 1000\n",
    "\n",
    "try:\n",
    "    # Conectar ao banco de dados silver_1 e extrair os dados como DataFrame\n",
    "    bronze_conn = duckdb.connect(database=silver_1_db_path)\n",
    "    query = \"SELECT id, neighbourhood_cleansed, price, number_of_reviews, review_scores_rating FROM listings;\"\n",
    "    data = bronze_conn.execute(query).fetchdf()\n",
    "    bronze_conn.close()\n",
    "    print(\"Dados extraídos com sucesso do banco bronze.\")\n",
    "\n",
    "    # Tratamento de dados\n",
    "    # Remover o símbolo '$' e substituir valores nulos em 'price' e 'review_scores_rating' por 0\n",
    "    data['price'] = data['price'].str.replace('$', '', regex=False).str.replace(',', '', regex=False).astype(float)\n",
    "    data['price'].fillna(0, inplace=True)\n",
    "    data['review_scores_rating'].fillna(0, inplace=True)\n",
    "    \n",
    "    # Conectar ao banco de dados silver_2\n",
    "    silver_conn = duckdb.connect(database=silver_2_db_path)\n",
    "    silver_conn.execute(\"PRAGMA disable_object_cache\")\n",
    "\n",
    "    # Inserir os dados em lotes na tabela 'listings_silver'\n",
    "    for i in range(0, len(data), BATCH_SIZE):\n",
    "        batch = data.iloc[i:i + BATCH_SIZE]  # Seleciona o lote atual\n",
    "        \n",
    "        # Executar a inserção do lote atual na tabela listings_silver\n",
    "        insert_query = \"\"\"\n",
    "        INSERT INTO listings_silver (id, neighbourhood_cleansed, price, number_of_reviews, review_scores_rating)\n",
    "        VALUES (?, ?, ?, ?, ?);\n",
    "        \"\"\"\n",
    "        silver_conn.executemany(insert_query, batch.values.tolist())\n",
    "        \n",
    "        print(f\"Lote {i // BATCH_SIZE + 1} inserido com sucesso.\")\n",
    "\n",
    "    print(\"Todos os dados foram inseridos com sucesso na tabela 'listings_silver' do banco silver.\")\n",
    "\n",
    "except duckdb.Error as e:\n",
    "    print(\"Ocorreu um erro ao acessar o banco de dados:\", e)\n",
    "\n",
    "except Exception as e:\n",
    "    print(\"Ocorreu um erro inesperado:\", e)\n",
    "\n",
    "finally:\n",
    "    # Fechar as conexões\n",
    "    try:\n",
    "        bronze_conn.close()\n",
    "    except:\n",
    "        pass\n",
    "    try:\n",
    "        silver_conn.close()\n",
    "    except:\n",
    "        pass"
   ]
  }
 ],
 "metadata": {
  "kernelspec": {
   "display_name": "Python 3",
   "language": "python",
   "name": "python3"
  },
  "language_info": {
   "codemirror_mode": {
    "name": "ipython",
    "version": 3
   },
   "file_extension": ".py",
   "mimetype": "text/x-python",
   "name": "python",
   "nbconvert_exporter": "python",
   "pygments_lexer": "ipython3",
   "version": "3.12.6"
  }
 },
 "nbformat": 4,
 "nbformat_minor": 2
}
