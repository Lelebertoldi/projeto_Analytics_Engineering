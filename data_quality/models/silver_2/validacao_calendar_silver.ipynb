{
 "cells": [
  {
   "cell_type": "code",
   "execution_count": null,
   "metadata": {},
   "outputs": [],
   "source": [
    "import pandera as pa\n",
    "from pandera import Column, DataFrameSchema, Check\n",
    "import duckdb\n",
    "\n",
    "# Define o caminho para o banco de dados DuckDB\n",
    "db_path = 'D:\\\\GitHub\\\\projeto_Analytics_Engineering\\\\data_quality\\\\silver_2.duckdb'"
   ]
  },
  {
   "cell_type": "code",
   "execution_count": 5,
   "metadata": {},
   "outputs": [],
   "source": [
    "# Definindo o esquema para a tabela \"calendar_silver\"\n",
    "calendar_schema = DataFrameSchema({\n",
    "    \"listing_id\": Column(pa.Int64, checks=Check.greater_than(0), nullable=False),  # ID não nulo e maior que 0\n",
    "    \"date\": Column(pa.DateTime, nullable=False),                                   # Data não nula\n",
    "    \"available\": Column(pa.Bool, nullable=False)                                  # Disponibilidade não nula\n",
    "})"
   ]
  },
  {
   "cell_type": "code",
   "execution_count": 6,
   "metadata": {},
   "outputs": [
    {
     "name": "stdout",
     "output_type": "stream",
     "text": [
      "Dados validados com sucesso:\n",
      "          listing_id       date  available\n",
      "0            4905170 2025-06-17       True\n",
      "1            4905170 2025-06-20       True\n",
      "2            4905170 2025-06-23       True\n",
      "3            5529385 2024-10-11       True\n",
      "4            5529385 2024-10-12       True\n",
      "...              ...        ...        ...\n",
      "12979859    49232760 2024-09-08       True\n",
      "12979860    49232760 2024-09-10       True\n",
      "12979861    49232760 2024-09-11       True\n",
      "12979862    49232760 2024-09-12       True\n",
      "12979863    49232760 2024-09-20      False\n",
      "\n",
      "[12979864 rows x 3 columns]\n"
     ]
    }
   ],
   "source": [
    "# Conectar ao banco de dados DuckDB\n",
    "conn = duckdb.connect(database=db_path)\n",
    "\n",
    "# Carregando os dados da tabela \"calendar_silver\"\n",
    "df_calendar = conn.execute(\"SELECT * FROM calendar_silver\").fetchdf()\n",
    "\n",
    "# Validando o DataFrame com Pandera\n",
    "try:\n",
    "    validated_calendar_df = calendar_schema.validate(df_calendar)\n",
    "    print(\"Dados validados com sucesso:\")\n",
    "    print(validated_calendar_df)\n",
    "except pa.errors.SchemaError as e:\n",
    "    print(\"Erro na validação dos dados:\", e)\n",
    "finally:\n",
    "    conn.close()  # Fechando a conexão com o banco de dados"
   ]
  }
 ],
 "metadata": {
  "kernelspec": {
   "display_name": "Python 3",
   "language": "python",
   "name": "python3"
  },
  "language_info": {
   "codemirror_mode": {
    "name": "ipython",
    "version": 3
   },
   "file_extension": ".py",
   "mimetype": "text/x-python",
   "name": "python",
   "nbconvert_exporter": "python",
   "pygments_lexer": "ipython3",
   "version": "3.12.6"
  }
 },
 "nbformat": 4,
 "nbformat_minor": 2
}
