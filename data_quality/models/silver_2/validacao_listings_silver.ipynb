{
 "cells": [
  {
   "cell_type": "code",
   "execution_count": null,
   "metadata": {},
   "outputs": [],
   "source": [
    "import pandera as pa\n",
    "from pandera import Column, DataFrameSchema, Check\n",
    "import duckdb\n",
    "\n",
    "# Define o caminho para o banco de dados DuckDB\n",
    "db_path = 'D:\\\\GitHub\\\\projeto_Analytics_Engineering\\\\data_quality\\\\silver_2.duckdb'"
   ]
  },
  {
   "cell_type": "code",
   "execution_count": 8,
   "metadata": {},
   "outputs": [],
   "source": [
    "# Definindo o esquema para a tabela \"listings_silver\"\n",
    "listings_schema = DataFrameSchema({\n",
    "    \"id\": Column(pa.Int64, checks=Check.greater_than(0), nullable=False),  # ID não nulo e maior que 0\n",
    "    \"neighbourhood_cleansed\": Column(pa.String, nullable=False),             # Bairro não pode ser nulo\n",
    "    \"price\": Column(pa.Float, nullable=False),                              # Preço não nulo\n",
    "    \"number_of_reviews\": Column(pa.Int32, checks=Check.greater_than_or_equal_to(0), nullable=False),  # Número de avaliações não nulo\n",
    "    \"review_scores_rating\": Column(pa.Float, checks=Check.in_range(0, 5), nullable=False)                 # Avaliação não nula e entre 0 e 5\n",
    "})"
   ]
  },
  {
   "cell_type": "code",
   "execution_count": 9,
   "metadata": {},
   "outputs": [
    {
     "name": "stdout",
     "output_type": "stream",
     "text": [
      "Dados validados com sucesso:\n",
      "                        id neighbourhood_cleansed  price  number_of_reviews  \\\n",
      "0                    17878             Copacabana  310.0                319   \n",
      "1                    25026             Copacabana  203.0                291   \n",
      "2                   220377                 Tijuca  220.0                  5   \n",
      "3                    35764             Copacabana  201.0                476   \n",
      "4                   223073                Ipanema  321.0                471   \n",
      "...                    ...                    ...    ...                ...   \n",
      "52684  1186981497123032289        Barra da Tijuca  630.0                  0   \n",
      "52685  1187078788620039832             Copacabana  103.0                  0   \n",
      "52686  1184700608791969952                 Tijuca  150.0                  0   \n",
      "52687  1184818035513976907                 Catete  307.0                  0   \n",
      "52688  1184844634544738969             Copacabana  311.0                  0   \n",
      "\n",
      "       review_scores_rating  \n",
      "0                      4.71  \n",
      "1                      4.73  \n",
      "2                      5.00  \n",
      "3                      4.91  \n",
      "4                      4.81  \n",
      "...                     ...  \n",
      "52684                  0.00  \n",
      "52685                  0.00  \n",
      "52686                  0.00  \n",
      "52687                  0.00  \n",
      "52688                  0.00  \n",
      "\n",
      "[52689 rows x 5 columns]\n"
     ]
    }
   ],
   "source": [
    "# Conectando ao banco de dados DuckDB especificado\n",
    "conn = duckdb.connect(database=db_path, read_only=False)\n",
    "\n",
    "# Carregando os dados da tabela \"listings_silver\"\n",
    "df_listings = conn.execute(\"SELECT * FROM listings_silver\").fetchdf()\n",
    "\n",
    "# Validando o DataFrame com Pandera\n",
    "try:\n",
    "    validated_listings_df = listings_schema.validate(df_listings)\n",
    "    print(\"Dados validados com sucesso:\")\n",
    "    print(validated_listings_df)\n",
    "except pa.errors.SchemaError as e:\n",
    "    print(\"Erro na validação dos dados:\", e)\n",
    "finally:\n",
    "    conn.close()  # Fechando a conexão com o banco de dados"
   ]
  }
 ],
 "metadata": {
  "kernelspec": {
   "display_name": "Python 3",
   "language": "python",
   "name": "python3"
  },
  "language_info": {
   "codemirror_mode": {
    "name": "ipython",
    "version": 3
   },
   "file_extension": ".py",
   "mimetype": "text/x-python",
   "name": "python",
   "nbconvert_exporter": "python",
   "pygments_lexer": "ipython3",
   "version": "3.12.6"
  }
 },
 "nbformat": 4,
 "nbformat_minor": 2
}
