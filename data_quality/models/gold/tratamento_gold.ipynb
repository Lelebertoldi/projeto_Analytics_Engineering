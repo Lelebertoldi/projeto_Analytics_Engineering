{
 "cells": [
  {
   "cell_type": "code",
   "execution_count": null,
   "metadata": {},
   "outputs": [],
   "source": [
    "import duckdb\n",
    "import pandas as pd\n",
    "\n",
    "# Caminho para o banco de dados DuckDB\n",
    "gold = 'D:\\\\GitHub\\\\projeto_Analytics_Engineering\\\\data_quality\\\\gold.duckdb'\n",
    "\n",
    "silver_2 = 'D:\\\\GitHub\\\\projeto_Analytics_Engineering\\\\data_quality\\\\silver_2.duckdb'\n"
   ]
  },
  {
   "cell_type": "markdown",
   "metadata": {},
   "source": [
    "### Pegando todos os bairros na tabela listings_silver do banco silver_2 e adicionando os valores de forma única na coluna bairro da tabela demanda_por_bairro do banco gold:"
   ]
  },
  {
   "cell_type": "code",
   "execution_count": 6,
   "metadata": {},
   "outputs": [],
   "source": [
    "# Conectar ao banco de dados gold\n",
    "con_gold = duckdb.connect(gold)\n",
    "\n",
    "# Anexar o banco de dados silver_2\n",
    "con_gold.execute(f\"ATTACH DATABASE '{silver_2}' AS silver_db\")\n",
    "\n",
    "# Obter os valores únicos da coluna neighbourhood_cleansed da tabela listings_silver e inserir no banco gold\n",
    "query = \"\"\"\n",
    "    INSERT INTO demanda_por_bairro (bairro)\n",
    "    SELECT DISTINCT neighbourhood_cleansed\n",
    "    FROM silver_db.listings_silver\n",
    "\"\"\"\n",
    "\n",
    "# Executar a consulta\n",
    "con_gold.execute(query)\n",
    "\n",
    "# Fechar a conexão com o banco de dados\n",
    "con_gold.close()\n"
   ]
  },
  {
   "cell_type": "markdown",
   "metadata": {},
   "source": [
    "### quantas reservas houveram por bairro no mês de janeiro:"
   ]
  },
  {
   "cell_type": "code",
   "execution_count": 5,
   "metadata": {},
   "outputs": [
    {
     "name": "stdout",
     "output_type": "stream",
     "text": [
      "Consulta executada com sucesso e dados atualizados na tabela 'demanda_por_bairro'.\n"
     ]
    }
   ],
   "source": [
    "## Conectar ao banco de dados gold\n",
    "con_gold = duckdb.connect(gold)\n",
    "\n",
    "# Anexar o banco de dados silver_2\n",
    "con_gold.execute(f\"ATTACH DATABASE '{silver_2}' AS silver_db\")\n",
    "\n",
    "# Começar uma transação para garantir a integridade\n",
    "con_gold.execute(\"BEGIN\")\n",
    "\n",
    "# Atualizar ou inserir as reservas de janeiro (disponibilidade = False), juntando com a tabela listings_silver\n",
    "query = \"\"\"\n",
    "    INSERT INTO demanda_por_bairro (bairro, demanda_jan)\n",
    "    SELECT \n",
    "        l.neighbourhood_cleansed AS bairro,\n",
    "        COUNT(c.listing_id) AS demanda_jan\n",
    "    FROM silver_db.calendar_silver c\n",
    "    JOIN silver_db.listings_silver l\n",
    "        ON l.id = c.listing_id\n",
    "    WHERE \n",
    "        c.available = False \n",
    "        AND strftime('%m', c.date) = '01' -- Filtra por janeiro (mês 01)\n",
    "    GROUP BY l.neighbourhood_cleansed\n",
    "    ON CONFLICT (bairro) DO UPDATE \n",
    "    SET demanda_jan = excluded.demanda_jan\n",
    "\"\"\"\n",
    "\n",
    "# Executar a consulta\n",
    "con_gold.execute(query)\n",
    "\n",
    "# Confirmar a transação\n",
    "con_gold.execute(\"COMMIT\")\n",
    "\n",
    "# Fechar a conexão com o banco de dados\n",
    "con_gold.close()\n",
    "\n",
    "# Conectar ao banco de dados gold\n",
    "con_gold = duckdb.connect(gold)\n",
    "\n",
    "# Atualizar os valores de demanda_jan: substituir NULL por 0 e garantir que os valores sejam INTEGER\n",
    "con_gold.execute(\"\"\"\n",
    "    UPDATE demanda_por_bairro\n",
    "    SET demanda_jan = CAST(COALESCE(demanda_jan, 0) AS INTEGER)\n",
    "\"\"\")\n",
    "\n",
    "# Fechar a conexão com o banco de dados\n",
    "con_gold.close()\n",
    "\n",
    "print(\"Consulta executada com sucesso e dados atualizados na tabela 'demanda_por_bairro'.\")\n"
   ]
  },
  {
   "cell_type": "markdown",
   "metadata": {},
   "source": [
    "### quantas reservas houveram por bairro no mês de fevereiro:"
   ]
  },
  {
   "cell_type": "code",
   "execution_count": 6,
   "metadata": {},
   "outputs": [
    {
     "name": "stdout",
     "output_type": "stream",
     "text": [
      "Consulta executada com sucesso e dados atualizados na tabela 'demanda_por_bairro'.\n"
     ]
    }
   ],
   "source": [
    "## Conectar ao banco de dados gold\n",
    "con_gold = duckdb.connect(gold)\n",
    "\n",
    "# Anexar o banco de dados silver_2\n",
    "con_gold.execute(f\"ATTACH DATABASE '{silver_2}' AS silver_db\")\n",
    "\n",
    "# Começar uma transação para garantir a integridade\n",
    "con_gold.execute(\"BEGIN\")\n",
    "\n",
    "# Atualizar ou inserir as reservas de janeiro (disponibilidade = False), juntando com a tabela listings_silver\n",
    "query = \"\"\"\n",
    "    INSERT INTO demanda_por_bairro (bairro, demanda_fev)\n",
    "    SELECT \n",
    "        l.neighbourhood_cleansed AS bairro,\n",
    "        COUNT(c.listing_id) AS demanda_fev\n",
    "    FROM silver_db.calendar_silver c\n",
    "    JOIN silver_db.listings_silver l\n",
    "        ON l.id = c.listing_id\n",
    "    WHERE \n",
    "        c.available = False \n",
    "        AND strftime('%m', c.date) = '02'\n",
    "    GROUP BY l.neighbourhood_cleansed\n",
    "    ON CONFLICT (bairro) DO UPDATE \n",
    "    SET demanda_fev = excluded.demanda_fev\n",
    "\"\"\"\n",
    "\n",
    "# Executar a consulta\n",
    "con_gold.execute(query)\n",
    "\n",
    "# Confirmar a transação\n",
    "con_gold.execute(\"COMMIT\")\n",
    "\n",
    "# Fechar a conexão com o banco de dados\n",
    "con_gold.close()\n",
    "\n",
    "# Conectar ao banco de dados gold\n",
    "con_gold = duckdb.connect(gold)\n",
    "\n",
    "# Atualizar os valores de demanda_fev: substituir NULL por 0 e garantir que os valores sejam INTEGER\n",
    "con_gold.execute(\"\"\"\n",
    "    UPDATE demanda_por_bairro\n",
    "    SET demanda_fev = CAST(COALESCE(demanda_fev, 0) AS INTEGER)\n",
    "\"\"\")\n",
    "\n",
    "# Fechar a conexão com o banco de dados\n",
    "con_gold.close()\n",
    "\n",
    "print(\"Consulta executada com sucesso e dados atualizados na tabela 'demanda_por_bairro'.\")\n"
   ]
  },
  {
   "cell_type": "markdown",
   "metadata": {},
   "source": [
    "### quantas reservas houveram por bairro no mês de março:"
   ]
  },
  {
   "cell_type": "code",
   "execution_count": 7,
   "metadata": {},
   "outputs": [
    {
     "name": "stdout",
     "output_type": "stream",
     "text": [
      "Consulta executada com sucesso e dados atualizados na tabela 'demanda_por_bairro'.\n"
     ]
    }
   ],
   "source": [
    "## Conectar ao banco de dados gold\n",
    "con_gold = duckdb.connect(gold)\n",
    "\n",
    "# Anexar o banco de dados silver_2\n",
    "con_gold.execute(f\"ATTACH DATABASE '{silver_2}' AS silver_db\")\n",
    "\n",
    "# Começar uma transação para garantir a integridade\n",
    "con_gold.execute(\"BEGIN\")\n",
    "\n",
    "# Atualizar ou inserir as reservas de janeiro (disponibilidade = False), juntando com a tabela listings_silver\n",
    "query = \"\"\"\n",
    "    INSERT INTO demanda_por_bairro (bairro, demanda_mar)\n",
    "    SELECT \n",
    "        l.neighbourhood_cleansed AS bairro,\n",
    "        COUNT(c.listing_id) AS demanda_mar\n",
    "    FROM silver_db.calendar_silver c\n",
    "    JOIN silver_db.listings_silver l\n",
    "        ON l.id = c.listing_id\n",
    "    WHERE \n",
    "        c.available = False \n",
    "        AND strftime('%m', c.date) = '03'\n",
    "    GROUP BY l.neighbourhood_cleansed\n",
    "    ON CONFLICT (bairro) DO UPDATE \n",
    "    SET demanda_mar = excluded.demanda_mar\n",
    "\"\"\"\n",
    "\n",
    "# Executar a consulta\n",
    "con_gold.execute(query)\n",
    "\n",
    "# Confirmar a transação\n",
    "con_gold.execute(\"COMMIT\")\n",
    "\n",
    "# Fechar a conexão com o banco de dados\n",
    "con_gold.close()\n",
    "\n",
    "# Conectar ao banco de dados gold\n",
    "con_gold = duckdb.connect(gold)\n",
    "\n",
    "# Atualizar os valores de demanda_mar: substituir NULL por 0 e garantir que os valores sejam INTEGER\n",
    "con_gold.execute(\"\"\"\n",
    "    UPDATE demanda_por_bairro\n",
    "    SET demanda_mar = CAST(COALESCE(demanda_mar, 0) AS INTEGER)\n",
    "\"\"\")\n",
    "\n",
    "# Fechar a conexão com o banco de dados\n",
    "con_gold.close()\n",
    "\n",
    "print(\"Consulta executada com sucesso e dados atualizados na tabela 'demanda_por_bairro'.\")\n"
   ]
  },
  {
   "cell_type": "markdown",
   "metadata": {},
   "source": [
    "### quantas reservas houveram por bairro no mês de abril:"
   ]
  },
  {
   "cell_type": "code",
   "execution_count": 8,
   "metadata": {},
   "outputs": [
    {
     "name": "stdout",
     "output_type": "stream",
     "text": [
      "Consulta executada com sucesso e dados atualizados na tabela 'demanda_por_bairro'.\n"
     ]
    }
   ],
   "source": [
    "## Conectar ao banco de dados gold\n",
    "con_gold = duckdb.connect(gold)\n",
    "\n",
    "# Anexar o banco de dados silver_2\n",
    "con_gold.execute(f\"ATTACH DATABASE '{silver_2}' AS silver_db\")\n",
    "\n",
    "# Começar uma transação para garantir a integridade\n",
    "con_gold.execute(\"BEGIN\")\n",
    "\n",
    "# Atualizar ou inserir as reservas de janeiro (disponibilidade = False), juntando com a tabela listings_silver\n",
    "query = \"\"\"\n",
    "    INSERT INTO demanda_por_bairro (bairro, demanda_abr)\n",
    "    SELECT \n",
    "        l.neighbourhood_cleansed AS bairro,\n",
    "        COUNT(c.listing_id) AS demanda_abr\n",
    "    FROM silver_db.calendar_silver c\n",
    "    JOIN silver_db.listings_silver l\n",
    "        ON l.id = c.listing_id\n",
    "    WHERE \n",
    "        c.available = False \n",
    "        AND strftime('%m', c.date) = '04'\n",
    "    GROUP BY l.neighbourhood_cleansed\n",
    "    ON CONFLICT (bairro) DO UPDATE \n",
    "    SET demanda_abr = excluded.demanda_abr\n",
    "\"\"\"\n",
    "\n",
    "# Executar a consulta\n",
    "con_gold.execute(query)\n",
    "\n",
    "# Confirmar a transação\n",
    "con_gold.execute(\"COMMIT\")\n",
    "\n",
    "# Fechar a conexão com o banco de dados\n",
    "con_gold.close()\n",
    "\n",
    "# Conectar ao banco de dados gold\n",
    "con_gold = duckdb.connect(gold)\n",
    "\n",
    "# Atualizar os valores de demanda_abr: substituir NULL por 0 e garantir que os valores sejam INTEGER\n",
    "con_gold.execute(\"\"\"\n",
    "    UPDATE demanda_por_bairro\n",
    "    SET demanda_abr = CAST(COALESCE(demanda_abr, 0) AS INTEGER)\n",
    "\"\"\")\n",
    "\n",
    "# Fechar a conexão com o banco de dados\n",
    "con_gold.close()\n",
    "\n",
    "print(\"Consulta executada com sucesso e dados atualizados na tabela 'demanda_por_bairro'.\")\n"
   ]
  },
  {
   "cell_type": "markdown",
   "metadata": {},
   "source": [
    "### quantas reservas houveram por bairro no mês de maio:"
   ]
  },
  {
   "cell_type": "code",
   "execution_count": 9,
   "metadata": {},
   "outputs": [
    {
     "name": "stdout",
     "output_type": "stream",
     "text": [
      "Consulta executada com sucesso e dados atualizados na tabela 'demanda_por_bairro'.\n"
     ]
    }
   ],
   "source": [
    "## Conectar ao banco de dados gold\n",
    "con_gold = duckdb.connect(gold)\n",
    "\n",
    "# Anexar o banco de dados silver_2\n",
    "con_gold.execute(f\"ATTACH DATABASE '{silver_2}' AS silver_db\")\n",
    "\n",
    "# Começar uma transação para garantir a integridade\n",
    "con_gold.execute(\"BEGIN\")\n",
    "\n",
    "# Atualizar ou inserir as reservas de janeiro (disponibilidade = False), juntando com a tabela listings_silver\n",
    "query = \"\"\"\n",
    "    INSERT INTO demanda_por_bairro (bairro, demanda_mai)\n",
    "    SELECT \n",
    "        l.neighbourhood_cleansed AS bairro,\n",
    "        COUNT(c.listing_id) AS demanda_mai\n",
    "    FROM silver_db.calendar_silver c\n",
    "    JOIN silver_db.listings_silver l\n",
    "        ON l.id = c.listing_id\n",
    "    WHERE \n",
    "        c.available = False \n",
    "        AND strftime('%m', c.date) = '05'\n",
    "    GROUP BY l.neighbourhood_cleansed\n",
    "    ON CONFLICT (bairro) DO UPDATE \n",
    "    SET demanda_mai = excluded.demanda_mai\n",
    "\"\"\"\n",
    "\n",
    "# Executar a consulta\n",
    "con_gold.execute(query)\n",
    "\n",
    "# Confirmar a transação\n",
    "con_gold.execute(\"COMMIT\")\n",
    "\n",
    "# Fechar a conexão com o banco de dados\n",
    "con_gold.close()\n",
    "\n",
    "# Conectar ao banco de dados gold\n",
    "con_gold = duckdb.connect(gold)\n",
    "\n",
    "# Atualizar os valores de demanda_mai: substituir NULL por 0 e garantir que os valores sejam INTEGER\n",
    "con_gold.execute(\"\"\"\n",
    "    UPDATE demanda_por_bairro\n",
    "    SET demanda_mai = CAST(COALESCE(demanda_mai, 0) AS INTEGER)\n",
    "\"\"\")\n",
    "\n",
    "# Fechar a conexão com o banco de dados\n",
    "con_gold.close()\n",
    "\n",
    "print(\"Consulta executada com sucesso e dados atualizados na tabela 'demanda_por_bairro'.\")\n"
   ]
  },
  {
   "cell_type": "markdown",
   "metadata": {},
   "source": [
    "### quantas reservas houveram por bairro no mês de junho:"
   ]
  },
  {
   "cell_type": "code",
   "execution_count": 10,
   "metadata": {},
   "outputs": [
    {
     "name": "stdout",
     "output_type": "stream",
     "text": [
      "Consulta executada com sucesso e dados atualizados na tabela 'demanda_por_bairro'.\n"
     ]
    }
   ],
   "source": [
    "## Conectar ao banco de dados gold\n",
    "con_gold = duckdb.connect(gold)\n",
    "\n",
    "# Anexar o banco de dados silver_2\n",
    "con_gold.execute(f\"ATTACH DATABASE '{silver_2}' AS silver_db\")\n",
    "\n",
    "# Começar uma transação para garantir a integridade\n",
    "con_gold.execute(\"BEGIN\")\n",
    "\n",
    "# Atualizar ou inserir as reservas de janeiro (disponibilidade = False), juntando com a tabela listings_silver\n",
    "query = \"\"\"\n",
    "    INSERT INTO demanda_por_bairro (bairro, demanda_jun)\n",
    "    SELECT \n",
    "        l.neighbourhood_cleansed AS bairro,\n",
    "        COUNT(c.listing_id) AS demanda_jun\n",
    "    FROM silver_db.calendar_silver c\n",
    "    JOIN silver_db.listings_silver l\n",
    "        ON l.id = c.listing_id\n",
    "    WHERE \n",
    "        c.available = False \n",
    "        AND strftime('%m', c.date) = '06'\n",
    "    GROUP BY l.neighbourhood_cleansed\n",
    "    ON CONFLICT (bairro) DO UPDATE \n",
    "    SET demanda_jun = excluded.demanda_jun\n",
    "\"\"\"\n",
    "\n",
    "# Executar a consulta\n",
    "con_gold.execute(query)\n",
    "\n",
    "# Confirmar a transação\n",
    "con_gold.execute(\"COMMIT\")\n",
    "\n",
    "# Fechar a conexão com o banco de dados\n",
    "con_gold.close()\n",
    "\n",
    "# Conectar ao banco de dados gold\n",
    "con_gold = duckdb.connect(gold)\n",
    "\n",
    "# Atualizar os valores de demanda_jun: substituir NULL por 0 e garantir que os valores sejam INTEGER\n",
    "con_gold.execute(\"\"\"\n",
    "    UPDATE demanda_por_bairro\n",
    "    SET demanda_jun = CAST(COALESCE(demanda_jun, 0) AS INTEGER)\n",
    "\"\"\")\n",
    "\n",
    "# Fechar a conexão com o banco de dados\n",
    "con_gold.close()\n",
    "\n",
    "print(\"Consulta executada com sucesso e dados atualizados na tabela 'demanda_por_bairro'.\")\n"
   ]
  },
  {
   "cell_type": "markdown",
   "metadata": {},
   "source": [
    "### quantas reservas houveram por bairro no mês de julho:"
   ]
  },
  {
   "cell_type": "code",
   "execution_count": 11,
   "metadata": {},
   "outputs": [
    {
     "name": "stdout",
     "output_type": "stream",
     "text": [
      "Consulta executada com sucesso e dados atualizados na tabela 'demanda_por_bairro'.\n"
     ]
    }
   ],
   "source": [
    "## Conectar ao banco de dados gold\n",
    "con_gold = duckdb.connect(gold)\n",
    "\n",
    "# Anexar o banco de dados silver_2\n",
    "con_gold.execute(f\"ATTACH DATABASE '{silver_2}' AS silver_db\")\n",
    "\n",
    "# Começar uma transação para garantir a integridade\n",
    "con_gold.execute(\"BEGIN\")\n",
    "\n",
    "# Atualizar ou inserir as reservas de janeiro (disponibilidade = False), juntando com a tabela listings_silver\n",
    "query = \"\"\"\n",
    "    INSERT INTO demanda_por_bairro (bairro, demanda_jul)\n",
    "    SELECT \n",
    "        l.neighbourhood_cleansed AS bairro,\n",
    "        COUNT(c.listing_id) AS demanda_jul\n",
    "    FROM silver_db.calendar_silver c\n",
    "    JOIN silver_db.listings_silver l\n",
    "        ON l.id = c.listing_id\n",
    "    WHERE \n",
    "        c.available = False \n",
    "        AND strftime('%m', c.date) = '07'\n",
    "    GROUP BY l.neighbourhood_cleansed\n",
    "    ON CONFLICT (bairro) DO UPDATE \n",
    "    SET demanda_jul = excluded.demanda_jul\n",
    "\"\"\"\n",
    "\n",
    "# Executar a consulta\n",
    "con_gold.execute(query)\n",
    "\n",
    "# Confirmar a transação\n",
    "con_gold.execute(\"COMMIT\")\n",
    "\n",
    "# Fechar a conexão com o banco de dados\n",
    "con_gold.close()\n",
    "\n",
    "# Conectar ao banco de dados gold\n",
    "con_gold = duckdb.connect(gold)\n",
    "\n",
    "# Atualizar os valores de demanda_jul: substituir NULL por 0 e garantir que os valores sejam INTEGER\n",
    "con_gold.execute(\"\"\"\n",
    "    UPDATE demanda_por_bairro\n",
    "    SET demanda_jul = CAST(COALESCE(demanda_jul, 0) AS INTEGER)\n",
    "\"\"\")\n",
    "\n",
    "# Fechar a conexão com o banco de dados\n",
    "con_gold.close()\n",
    "\n",
    "print(\"Consulta executada com sucesso e dados atualizados na tabela 'demanda_por_bairro'.\")\n"
   ]
  },
  {
   "cell_type": "markdown",
   "metadata": {},
   "source": [
    "### quantas reservas houveram por bairro no mês de agosto:"
   ]
  },
  {
   "cell_type": "code",
   "execution_count": 12,
   "metadata": {},
   "outputs": [
    {
     "name": "stdout",
     "output_type": "stream",
     "text": [
      "Consulta executada com sucesso e dados atualizados na tabela 'demanda_por_bairro'.\n"
     ]
    }
   ],
   "source": [
    "## Conectar ao banco de dados gold\n",
    "con_gold = duckdb.connect(gold)\n",
    "\n",
    "# Anexar o banco de dados silver_2\n",
    "con_gold.execute(f\"ATTACH DATABASE '{silver_2}' AS silver_db\")\n",
    "\n",
    "# Começar uma transação para garantir a integridade\n",
    "con_gold.execute(\"BEGIN\")\n",
    "\n",
    "# Atualizar ou inserir as reservas de janeiro (disponibilidade = False), juntando com a tabela listings_silver\n",
    "query = \"\"\"\n",
    "    INSERT INTO demanda_por_bairro (bairro, demanda_ago)\n",
    "    SELECT \n",
    "        l.neighbourhood_cleansed AS bairro,\n",
    "        COUNT(c.listing_id) AS demanda_ago\n",
    "    FROM silver_db.calendar_silver c\n",
    "    JOIN silver_db.listings_silver l\n",
    "        ON l.id = c.listing_id\n",
    "    WHERE \n",
    "        c.available = False \n",
    "        AND strftime('%m', c.date) = '08'\n",
    "    GROUP BY l.neighbourhood_cleansed\n",
    "    ON CONFLICT (bairro) DO UPDATE \n",
    "    SET demanda_ago = excluded.demanda_ago\n",
    "\"\"\"\n",
    "\n",
    "# Executar a consulta\n",
    "con_gold.execute(query)\n",
    "\n",
    "# Confirmar a transação\n",
    "con_gold.execute(\"COMMIT\")\n",
    "\n",
    "# Fechar a conexão com o banco de dados\n",
    "con_gold.close()\n",
    "\n",
    "# Conectar ao banco de dados gold\n",
    "con_gold = duckdb.connect(gold)\n",
    "\n",
    "# Atualizar os valores de demanda_ago: substituir NULL por 0 e garantir que os valores sejam INTEGER\n",
    "con_gold.execute(\"\"\"\n",
    "    UPDATE demanda_por_bairro\n",
    "    SET demanda_ago = CAST(COALESCE(demanda_ago, 0) AS INTEGER)\n",
    "\"\"\")\n",
    "\n",
    "# Fechar a conexão com o banco de dados\n",
    "con_gold.close()\n",
    "\n",
    "print(\"Consulta executada com sucesso e dados atualizados na tabela 'demanda_por_bairro'.\")\n"
   ]
  },
  {
   "cell_type": "markdown",
   "metadata": {},
   "source": [
    "### quantas reservas houveram por bairro no mês de setembro:"
   ]
  },
  {
   "cell_type": "code",
   "execution_count": 13,
   "metadata": {},
   "outputs": [
    {
     "name": "stdout",
     "output_type": "stream",
     "text": [
      "Consulta executada com sucesso e dados atualizados na tabela 'demanda_por_bairro'.\n"
     ]
    }
   ],
   "source": [
    "## Conectar ao banco de dados gold\n",
    "con_gold = duckdb.connect(gold)\n",
    "\n",
    "# Anexar o banco de dados silver_2\n",
    "con_gold.execute(f\"ATTACH DATABASE '{silver_2}' AS silver_db\")\n",
    "\n",
    "# Começar uma transação para garantir a integridade\n",
    "con_gold.execute(\"BEGIN\")\n",
    "\n",
    "# Atualizar ou inserir as reservas de janeiro (disponibilidade = False), juntando com a tabela listings_silver\n",
    "query = \"\"\"\n",
    "    INSERT INTO demanda_por_bairro (bairro, demanda_set)\n",
    "    SELECT \n",
    "        l.neighbourhood_cleansed AS bairro,\n",
    "        COUNT(c.listing_id) AS demanda_set\n",
    "    FROM silver_db.calendar_silver c\n",
    "    JOIN silver_db.listings_silver l\n",
    "        ON l.id = c.listing_id\n",
    "    WHERE \n",
    "        c.available = False \n",
    "        AND strftime('%m', c.date) = '09'\n",
    "    GROUP BY l.neighbourhood_cleansed\n",
    "    ON CONFLICT (bairro) DO UPDATE \n",
    "    SET demanda_set = excluded.demanda_set\n",
    "\"\"\"\n",
    "\n",
    "# Executar a consulta\n",
    "con_gold.execute(query)\n",
    "\n",
    "# Confirmar a transação\n",
    "con_gold.execute(\"COMMIT\")\n",
    "\n",
    "# Fechar a conexão com o banco de dados\n",
    "con_gold.close()\n",
    "\n",
    "# Conectar ao banco de dados gold\n",
    "con_gold = duckdb.connect(gold)\n",
    "\n",
    "# Atualizar os valores de demanda_set: substituir NULL por 0 e garantir que os valores sejam INTEGER\n",
    "con_gold.execute(\"\"\"\n",
    "    UPDATE demanda_por_bairro\n",
    "    SET demanda_set = CAST(COALESCE(demanda_set, 0) AS INTEGER)\n",
    "\"\"\")\n",
    "\n",
    "# Fechar a conexão com o banco de dados\n",
    "con_gold.close()\n",
    "\n",
    "print(\"Consulta executada com sucesso e dados atualizados na tabela 'demanda_por_bairro'.\")\n"
   ]
  },
  {
   "cell_type": "markdown",
   "metadata": {},
   "source": [
    "### quantas reservas houveram por bairro no mês de outubro:"
   ]
  },
  {
   "cell_type": "code",
   "execution_count": 14,
   "metadata": {},
   "outputs": [
    {
     "name": "stdout",
     "output_type": "stream",
     "text": [
      "Consulta executada com sucesso e dados atualizados na tabela 'demanda_por_bairro'.\n"
     ]
    }
   ],
   "source": [
    "## Conectar ao banco de dados gold\n",
    "con_gold = duckdb.connect(gold)\n",
    "\n",
    "# Anexar o banco de dados silver_2\n",
    "con_gold.execute(f\"ATTACH DATABASE '{silver_2}' AS silver_db\")\n",
    "\n",
    "# Começar uma transação para garantir a integridade\n",
    "con_gold.execute(\"BEGIN\")\n",
    "\n",
    "# Atualizar ou inserir as reservas de janeiro (disponibilidade = False), juntando com a tabela listings_silver\n",
    "query = \"\"\"\n",
    "    INSERT INTO demanda_por_bairro (bairro, demanda_out)\n",
    "    SELECT \n",
    "        l.neighbourhood_cleansed AS bairro,\n",
    "        COUNT(c.listing_id) AS demanda_out\n",
    "    FROM silver_db.calendar_silver c\n",
    "    JOIN silver_db.listings_silver l\n",
    "        ON l.id = c.listing_id\n",
    "    WHERE \n",
    "        c.available = False \n",
    "        AND strftime('%m', c.date) = '10'\n",
    "    GROUP BY l.neighbourhood_cleansed\n",
    "    ON CONFLICT (bairro) DO UPDATE \n",
    "    SET demanda_out = excluded.demanda_out\n",
    "\"\"\"\n",
    "\n",
    "# Executar a consulta\n",
    "con_gold.execute(query)\n",
    "\n",
    "# Confirmar a transação\n",
    "con_gold.execute(\"COMMIT\")\n",
    "\n",
    "# Fechar a conexão com o banco de dados\n",
    "con_gold.close()\n",
    "\n",
    "# Conectar ao banco de dados gold\n",
    "con_gold = duckdb.connect(gold)\n",
    "\n",
    "# Atualizar os valores de demanda_out: substituir NULL por 0 e garantir que os valores sejam INTEGER\n",
    "con_gold.execute(\"\"\"\n",
    "    UPDATE demanda_por_bairro\n",
    "    SET demanda_out = CAST(COALESCE(demanda_out, 0) AS INTEGER)\n",
    "\"\"\")\n",
    "\n",
    "# Fechar a conexão com o banco de dados\n",
    "con_gold.close()\n",
    "\n",
    "print(\"Consulta executada com sucesso e dados atualizados na tabela 'demanda_por_bairro'.\")\n"
   ]
  },
  {
   "cell_type": "markdown",
   "metadata": {},
   "source": [
    "### quantas reservas houveram por bairro no mês de novembro:"
   ]
  },
  {
   "cell_type": "code",
   "execution_count": 15,
   "metadata": {},
   "outputs": [
    {
     "name": "stdout",
     "output_type": "stream",
     "text": [
      "Consulta executada com sucesso e dados atualizados na tabela 'demanda_por_bairro'.\n"
     ]
    }
   ],
   "source": [
    "## Conectar ao banco de dados gold\n",
    "con_gold = duckdb.connect(gold)\n",
    "\n",
    "# Anexar o banco de dados silver_2\n",
    "con_gold.execute(f\"ATTACH DATABASE '{silver_2}' AS silver_db\")\n",
    "\n",
    "# Começar uma transação para garantir a integridade\n",
    "con_gold.execute(\"BEGIN\")\n",
    "\n",
    "# Atualizar ou inserir as reservas de janeiro (disponibilidade = False), juntando com a tabela listings_silver\n",
    "query = \"\"\"\n",
    "    INSERT INTO demanda_por_bairro (bairro, demanda_nov)\n",
    "    SELECT \n",
    "        l.neighbourhood_cleansed AS bairro,\n",
    "        COUNT(c.listing_id) AS demanda_nov\n",
    "    FROM silver_db.calendar_silver c\n",
    "    JOIN silver_db.listings_silver l\n",
    "        ON l.id = c.listing_id\n",
    "    WHERE \n",
    "        c.available = False \n",
    "        AND strftime('%m', c.date) = '11'\n",
    "    GROUP BY l.neighbourhood_cleansed\n",
    "    ON CONFLICT (bairro) DO UPDATE \n",
    "    SET demanda_nov = excluded.demanda_nov\n",
    "\"\"\"\n",
    "\n",
    "# Executar a consulta\n",
    "con_gold.execute(query)\n",
    "\n",
    "# Confirmar a transação\n",
    "con_gold.execute(\"COMMIT\")\n",
    "\n",
    "# Fechar a conexão com o banco de dados\n",
    "con_gold.close()\n",
    "\n",
    "# Conectar ao banco de dados gold\n",
    "con_gold = duckdb.connect(gold)\n",
    "\n",
    "# Atualizar os valores de demanda_nov: substituir NULL por 0 e garantir que os valores sejam INTEGER\n",
    "con_gold.execute(\"\"\"\n",
    "    UPDATE demanda_por_bairro\n",
    "    SET demanda_nov = CAST(COALESCE(demanda_nov, 0) AS INTEGER)\n",
    "\"\"\")\n",
    "\n",
    "# Fechar a conexão com o banco de dados\n",
    "con_gold.close()\n",
    "\n",
    "print(\"Consulta executada com sucesso e dados atualizados na tabela 'demanda_por_bairro'.\")\n"
   ]
  },
  {
   "cell_type": "markdown",
   "metadata": {},
   "source": [
    "### quantas reservas houveram por bairro no mês de dezembro:"
   ]
  },
  {
   "cell_type": "code",
   "execution_count": 17,
   "metadata": {},
   "outputs": [
    {
     "name": "stdout",
     "output_type": "stream",
     "text": [
      "Consulta executada com sucesso e dados atualizados na tabela 'demanda_por_bairro'.\n"
     ]
    }
   ],
   "source": [
    "## Conectar ao banco de dados gold\n",
    "con_gold = duckdb.connect(gold)\n",
    "\n",
    "# Anexar o banco de dados silver_2\n",
    "con_gold.execute(f\"ATTACH DATABASE '{silver_2}' AS silver_db\")\n",
    "\n",
    "# Começar uma transação para garantir a integridade\n",
    "con_gold.execute(\"BEGIN\")\n",
    "\n",
    "# Atualizar ou inserir as reservas de janeiro (disponibilidade = False), juntando com a tabela listings_silver\n",
    "query = \"\"\"\n",
    "    INSERT INTO demanda_por_bairro (bairro, demanda_dez)\n",
    "    SELECT \n",
    "        l.neighbourhood_cleansed AS bairro,\n",
    "        COUNT(c.listing_id) AS demanda_dez\n",
    "    FROM silver_db.calendar_silver c\n",
    "    JOIN silver_db.listings_silver l\n",
    "        ON l.id = c.listing_id\n",
    "    WHERE \n",
    "        c.available = False \n",
    "        AND strftime('%m', c.date) = '12'\n",
    "    GROUP BY l.neighbourhood_cleansed\n",
    "    ON CONFLICT (bairro) DO UPDATE \n",
    "    SET demanda_dez = excluded.demanda_dez\n",
    "\"\"\"\n",
    "\n",
    "# Executar a consulta\n",
    "con_gold.execute(query)\n",
    "\n",
    "# Confirmar a transação\n",
    "con_gold.execute(\"COMMIT\")\n",
    "\n",
    "# Fechar a conexão com o banco de dados\n",
    "con_gold.close()\n",
    "\n",
    "# Conectar ao banco de dados gold\n",
    "con_gold = duckdb.connect(gold)\n",
    "\n",
    "# Atualizar os valores de demanda_dez: substituir NULL por 0 e garantir que os valores sejam INTEGER\n",
    "con_gold.execute(\"\"\"\n",
    "    UPDATE demanda_por_bairro\n",
    "    SET demanda_dez = CAST(COALESCE(demanda_dez, 0) AS INTEGER)\n",
    "\"\"\")\n",
    "\n",
    "# Fechar a conexão com o banco de dados\n",
    "con_gold.close()\n",
    "\n",
    "print(\"Consulta executada com sucesso e dados atualizados na tabela 'demanda_por_bairro'.\")\n"
   ]
  },
  {
   "cell_type": "markdown",
   "metadata": {},
   "source": [
    "### Média de preço por bairro:"
   ]
  },
  {
   "cell_type": "code",
   "execution_count": 7,
   "metadata": {},
   "outputs": [
    {
     "name": "stdout",
     "output_type": "stream",
     "text": [
      "                bairro  media_preco\n",
      "0          São Conrado      2248.04\n",
      "1                Gávea      1070.41\n",
      "2           Praça Seca       178.19\n",
      "3          Cosme Velho       629.83\n",
      "4    Alto da Boa Vista      1358.54\n",
      "..                 ...          ...\n",
      "147  Engenho da Rainha       117.00\n",
      "148            Grumari       446.22\n",
      "149            Benfica       363.25\n",
      "150               Caju       350.00\n",
      "151          Mangueira        76.00\n",
      "\n",
      "[152 rows x 2 columns]\n",
      "Tabela demanda_por_bairro atualizada com as médias de preço.\n"
     ]
    }
   ],
   "source": [
    "# Conectar ao banco de dados silver_2\n",
    "con_silver = duckdb.connect(silver_2)\n",
    "\n",
    "# Calcular a média de preço por bairro com 2 casas decimais\n",
    "query = \"\"\"\n",
    "    SELECT \n",
    "        neighbourhood_cleansed AS bairro, \n",
    "        ROUND(AVG(price), 2) AS media_preco\n",
    "    FROM silver_2.listings_silver\n",
    "    GROUP BY neighbourhood_cleansed\n",
    "\"\"\"\n",
    "\n",
    "# Executar a consulta e salvar os resultados em um DataFrame\n",
    "df_media_preco = con_silver.execute(query).fetchdf()\n",
    "\n",
    "# Exibir o DataFrame completo\n",
    "print(df_media_preco)\n",
    "\n",
    "# Fechar a conexão com o banco de dados\n",
    "con_silver.close()\n",
    "\n",
    "# Conectar ao banco de dados gold\n",
    "con_gold = duckdb.connect(gold)\n",
    "\n",
    "# Atualizar os valores de media_preco na tabela demanda_por_bairro com base no bairro\n",
    "for _, row in df_media_preco.iterrows():\n",
    "    con_gold.execute(\"\"\"\n",
    "        UPDATE demanda_por_bairro\n",
    "        SET media_preco = ?\n",
    "        WHERE bairro = ?\n",
    "    \"\"\", (row['media_preco'], row['bairro']))\n",
    "\n",
    "# Fechar a conexão com o banco de dados\n",
    "con_gold.close()\n",
    "\n",
    "print(\"Tabela demanda_por_bairro atualizada com as médias de preço.\")"
   ]
  },
  {
   "cell_type": "markdown",
   "metadata": {},
   "source": [
    "### Quantidade de avaliações por bairro:"
   ]
  },
  {
   "cell_type": "code",
   "execution_count": 12,
   "metadata": {},
   "outputs": [
    {
     "name": "stdout",
     "output_type": "stream",
     "text": [
      "                bairro  total_avaliacoes\n",
      "0             Flamengo             25244\n",
      "1               Centro             56242\n",
      "2              Rocinha                82\n",
      "3       Penha Circular                62\n",
      "4    Praça da Bandeira              1343\n",
      "..                 ...               ...\n",
      "147        Vila Kosmos                 0\n",
      "148          Bancários               231\n",
      "149     Maria da Graça                90\n",
      "150       Barros Filho                35\n",
      "151    Engenheiro Leal                19\n",
      "\n",
      "[152 rows x 2 columns]\n",
      "Tabela demanda_por_bairro atualizada com as médias de preço.\n"
     ]
    }
   ],
   "source": [
    "# Conectar ao banco de dados silver_2\n",
    "con_silver = duckdb.connect(silver_2)\n",
    "\n",
    "# Consultar e somar o número de avaliações por bairro\n",
    "query = \"\"\"\n",
    "    SELECT \n",
    "        neighbourhood_cleansed AS bairro, \n",
    "        CAST(SUM(number_of_reviews) AS INTEGER) AS total_avaliacoes\n",
    "    FROM silver_2.listings_silver\n",
    "    GROUP BY neighbourhood_cleansed\n",
    "\"\"\"\n",
    "\n",
    "# Executar a consulta e salvar os resultados em um DataFrame\n",
    "df_avaliacoes_por_bairro = con_silver.execute(query).fetchdf()\n",
    "\n",
    "# Fechar a conexão com o banco de dados silver_2\n",
    "con_silver.close()\n",
    "\n",
    "# Exibir o DataFrame completo\n",
    "print(df_avaliacoes_por_bairro)\n",
    "\n",
    "# Conectar ao banco de dados gold\n",
    "con_gold = duckdb.connect(gold)\n",
    "\n",
    "# Atualizar os valores de quantidade_avaliacoes na tabela demanda_por_bairro com base no bairro\n",
    "for _, row in df_avaliacoes_por_bairro.iterrows():\n",
    "    con_gold.execute(\"\"\"\n",
    "        UPDATE demanda_por_bairro\n",
    "        SET quantidade_avaliacoes = ?\n",
    "        WHERE bairro = ?\n",
    "    \"\"\", (row['total_avaliacoes'], row['bairro']))\n",
    "\n",
    "# Fechar a conexão com o banco de dados\n",
    "con_gold.close()\n",
    "\n",
    "print(\"Tabela demanda_por_bairro atualizada com as médias de preço.\")"
   ]
  },
  {
   "cell_type": "markdown",
   "metadata": {},
   "source": [
    "### Média de avaliações por bairro:"
   ]
  },
  {
   "cell_type": "code",
   "execution_count": 13,
   "metadata": {},
   "outputs": [
    {
     "name": "stdout",
     "output_type": "stream",
     "text": [
      "                       bairro  media_avaliacoes\n",
      "0                 Jacarepaguá              3.37\n",
      "1    Recreio dos Bandeirantes              3.19\n",
      "2          Barra de Guaratiba              3.26\n",
      "3                Rio Comprido              3.17\n",
      "4                Higienópolis              3.15\n",
      "..                        ...               ...\n",
      "147                    Cosmos              3.17\n",
      "148              Vila Militar              2.42\n",
      "149      Cidade Universitária              0.69\n",
      "150            Jardim América              5.00\n",
      "151              Tomás Coelho              4.90\n",
      "\n",
      "[152 rows x 2 columns]\n",
      "Tabela demanda_por_bairro atualizada com as médias de preço.\n"
     ]
    }
   ],
   "source": [
    "# Conectar ao banco de dados silver_2\n",
    "con_silver = duckdb.connect(silver_2)\n",
    "\n",
    "# Calcular a média de avaliações por bairro com 2 casas decimais\n",
    "query = \"\"\"\n",
    "    SELECT \n",
    "        neighbourhood_cleansed AS bairro, \n",
    "        ROUND(AVG(review_scores_rating), 2) AS media_avaliacoes\n",
    "    FROM silver_2.listings_silver\n",
    "    GROUP BY neighbourhood_cleansed\n",
    "\"\"\"\n",
    "\n",
    "# Executar a consulta e salvar os resultados em um DataFrame\n",
    "df_media_avaliacoes = con_silver.execute(query).fetchdf()\n",
    "\n",
    "# Exibir o DataFrame completo\n",
    "print(df_media_avaliacoes)\n",
    "\n",
    "# Fechar a conexão com o banco de dados\n",
    "con_silver.close()\n",
    "\n",
    "# Conectar ao banco de dados gold\n",
    "con_gold = duckdb.connect(gold)\n",
    "\n",
    "# Atualizar os valores de media_avaliacoes na tabela demanda_por_bairro com base no bairro\n",
    "for _, row in df_media_avaliacoes.iterrows():\n",
    "    con_gold.execute(\"\"\"\n",
    "        UPDATE demanda_por_bairro\n",
    "        SET media_avaliacoes = ?\n",
    "        WHERE bairro = ?\n",
    "    \"\"\", (row['media_avaliacoes'], row['bairro']))\n",
    "\n",
    "# Fechar a conexão com o banco de dados\n",
    "con_gold.close()\n",
    "\n",
    "print(\"Tabela demanda_por_bairro atualizada com as médias de preço.\")"
   ]
  }
 ],
 "metadata": {
  "kernelspec": {
   "display_name": "Python 3",
   "language": "python",
   "name": "python3"
  },
  "language_info": {
   "codemirror_mode": {
    "name": "ipython",
    "version": 3
   },
   "file_extension": ".py",
   "mimetype": "text/x-python",
   "name": "python",
   "nbconvert_exporter": "python",
   "pygments_lexer": "ipython3",
   "version": "3.12.6"
  }
 },
 "nbformat": 4,
 "nbformat_minor": 2
}
