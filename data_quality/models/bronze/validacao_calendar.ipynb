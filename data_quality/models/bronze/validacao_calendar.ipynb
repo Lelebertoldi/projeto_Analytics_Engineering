{
 "cells": [
  {
   "cell_type": "code",
   "execution_count": null,
   "metadata": {},
   "outputs": [],
   "source": [
    "import pandera as pa\n",
    "from pandera import Column, DataFrameSchema, Check\n",
    "import duckdb\n",
    "import pandas as pd\n",
    "\n",
    "# Caminho para o banco de dados DuckDB\n",
    "db_path = \"D:\\\\GitHub\\\\projeto_Analytics_Engineering\\\\data_quality\\\\bronze.duckdb\""
   ]
  },
  {
   "cell_type": "code",
   "execution_count": null,
   "metadata": {},
   "outputs": [],
   "source": [
    "# Definindo o esquema para a tabela \"calendar\" com a verificação\n",
    "calendar_schema = DataFrameSchema({\n",
    "    \"listing_id\": Column(pa.Int64, checks=Check.greater_than(0), nullable=False),  # ID não nulo e maior que 0\n",
    "    \"date\": Column(pa.DateTime, nullable=False),                                   # Data não nula\n",
    "    \"available\": Column(pa.Bool, nullable=False),                                  # Disponibilidade não nula\n",
    "})"
   ]
  },
  {
   "cell_type": "code",
   "execution_count": null,
   "metadata": {},
   "outputs": [
    {
     "data": {
      "application/vnd.jupyter.widget-view+json": {
       "model_id": "da40b759f2564c15911a3d838328c9cb",
       "version_major": 2,
       "version_minor": 0
      },
      "text/plain": [
       "FloatProgress(value=0.0, layout=Layout(width='auto'), style=ProgressStyle(bar_color='black'))"
      ]
     },
     "metadata": {},
     "output_type": "display_data"
    },
    {
     "name": "stdout",
     "output_type": "stream",
     "text": [
      "Dados validados com sucesso:\n",
      "          listing_id       date  available    price adjusted_price  \\\n",
      "0            4905170 2025-06-17       True  $170.00           None   \n",
      "1            4905170 2025-06-20       True  $170.00           None   \n",
      "2            4905170 2025-06-23       True  $170.00           None   \n",
      "3            5529385 2024-10-11       True  $375.00           None   \n",
      "4            5529385 2024-10-12       True  $375.00           None   \n",
      "...              ...        ...        ...      ...            ...   \n",
      "12652366    49232760 2024-09-08       True  $250.00           None   \n",
      "12652367    49232760 2024-09-10       True  $250.00           None   \n",
      "12652368    49232760 2024-09-11       True  $250.00           None   \n",
      "12652369    49232760 2024-09-12       True  $250.00           None   \n",
      "12652370    49232760 2024-09-20      False  $250.00           None   \n",
      "\n",
      "          minimum_nights  maximum_nights  \n",
      "0                    3.0          1125.0  \n",
      "1                    3.0          1125.0  \n",
      "2                    3.0          1125.0  \n",
      "3                    2.0             5.0  \n",
      "4                    2.0             4.0  \n",
      "...                  ...             ...  \n",
      "12652366             2.0          1125.0  \n",
      "12652367             2.0          1125.0  \n",
      "12652368             2.0          1125.0  \n",
      "12652369             2.0          1125.0  \n",
      "12652370             2.0          1125.0  \n",
      "\n",
      "[12652371 rows x 7 columns]\n"
     ]
    }
   ],
   "source": [
    "# Conectando ao banco de dados DuckDB\n",
    "conn = duckdb.connect(database=db_path, read_only=False)\n",
    "\n",
    "# Carregando os dados da tabela \"calendar\"\n",
    "df_calendar = conn.execute(\"SELECT * FROM calendar\").fetchdf()\n",
    "\n",
    "# Validando o DataFrame com Pandera\n",
    "try:\n",
    "    validated_calendar_df = calendar_schema.validate(df_calendar)\n",
    "    print(\"Dados validados com sucesso:\")\n",
    "    print(validated_calendar_df)\n",
    "except pa.errors.SchemaError as e:\n",
    "    print(\"Erro na validação dos dados:\", e)\n",
    "finally:\n",
    "    conn.close()  # Fechando a conexão com o banco de dados"
   ]
  }
 ],
 "metadata": {
  "kernelspec": {
   "display_name": "Python 3",
   "language": "python",
   "name": "python3"
  },
  "language_info": {
   "codemirror_mode": {
    "name": "ipython",
    "version": 3
   },
   "file_extension": ".py",
   "mimetype": "text/x-python",
   "name": "python",
   "nbconvert_exporter": "python",
   "pygments_lexer": "ipython3",
   "version": "3.12.6"
  }
 },
 "nbformat": 4,
 "nbformat_minor": 2
}
